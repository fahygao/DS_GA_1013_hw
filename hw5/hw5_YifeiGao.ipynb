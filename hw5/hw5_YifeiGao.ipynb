{
 "cells": [
  {
   "cell_type": "markdown",
   "metadata": {},
   "source": [
    "<h1><center> MATH-GA 2840 HW#5</center></h1>\n",
    "<h3 align=\"right\">Yifei(Fahy) Gao yg1753</h3>"
   ]
  },
  {
   "cell_type": "markdown",
   "metadata": {},
   "source": [
    "1. (Fourier coefficients and smoothness) Let $x: \\mathbb{R} \\rightarrow \\mathbb{C}$ be periodic with period 1 and let $\\hat{x}[k]$ denote the $k$ th Fourier coefficient of $x,$ for $k \\in \\mathbb{Z}$ (computed on any interval of length\n",
    "1)\n",
    "\n",
    "(a) Suppose $x$ is continuously differentiable. Prove that for $k \\neq 0$ we have\n",
    "$$\n",
    "|\\hat{x}[k]| \\leq \\frac{C_{1}}{|k|}\n",
    "$$\n",
    "for some $C_{1} \\geq 0$ that depends on $x$ (but not on $k$ ). [Hint: Integration by parts. Also note that\n",
    "$$\n",
    "\\left|\\int_{0}^{1} f(t) d t\\right| \\leq \\int_{0}^{1}|f(t)| d t<\\infty\n",
    "$$\n",
    "if $f$ is continuous on [0,1] .]\n",
    "\n"
   ]
  },
  {
   "cell_type": "markdown",
   "metadata": {},
   "source": [
    "Since $T=1, a=0$ then based on the formula of Fourier series:\n",
    "\n",
    "$$\\begin{aligned}|\\hat{x}[k]| =\\left|\\int_{0}^{1} x(t) \\exp (-i 2 \\pi k t) d t\\right| \\\\ =\\left|-\\frac{x(t)}{i 2 \\pi k} \\exp (-i 2 \\pi k t)\\right|_{0}^{1}+\\int_{0}^{1} \\frac{x^{\\prime}(t)}{i 2 \\pi k} \\exp (-i 2 \\pi k t) d t \\mid \\\\ =\\left|\\int_{0}^{1} \\frac{x^{\\prime}(t)}{i 2 \\pi k} \\exp (-i 2 \\pi k t) d t\\right| \\text{ ( $x$ has the period of 1)}\\\\ \\text{($\\left|\\int_{0}^{1} f(t) d t\\right| \\leq \\int_{0}^{1}|f(t)| d t$)} \\leq \\int_{0}^{1}\\left|\\frac{x^{\\prime}(t)}{i 2 \\pi k} \\exp (-i 2 \\pi k t)\\right| d t \\\\=\\left|\\frac{1}{k}\\right| \\int_{0}^{1}\\left|\\frac{x^{\\prime}(t)}{i 2 \\pi}\\right| d t \\text{(, since $\\exp (-i 2 \\pi k t)=cos(2\\pi k)-isin(2\\pi k)=1$)}\\\\ =\\frac{C_{1}}{|k|}  \\text{ ∎}\\end{aligned} $$"
   ]
  },
  {
   "cell_type": "markdown",
   "metadata": {},
   "source": [
    "(b) Suppose $x$ is twice continuously differentiable. Prove that for $k \\neq 0$ we have\n",
    "$$\n",
    "|\\hat{x}[k]| \\leq \\frac{C_{2}}{|k|^{2}}\n",
    "$$\n",
    "for some $C_{2} \\geq 0$ that depends on $x$ (but not on $k$ )."
   ]
  },
  {
   "cell_type": "markdown",
   "metadata": {},
   "source": [
    "Since $x$ is twice continously differentiable, then most of the steps are the same as the part a, except $\\left|\\int_{0}^{1} \\frac{x^{\\prime}(t)}{i 2 \\pi k} \\exp (-i 2 \\pi k t) d t\\right| =\\left|-\\frac{x^{\\prime}(t)}{(2 \\pi)^2 k^2} \\exp (-i 2 \\pi k t)\\right|_{0}^{1}+\\int_{0}^{1} \\frac{x^{\\prime\\prime}(t)}{(2 \\pi)^2 k^2} \\exp (-i 2 \\pi k t) d t \\mid$, then:\n",
    "\n",
    "$$\\begin{aligned}|\\hat{x}[k]| &=\\left|-\\frac{x^{\\prime}(t)}{(2 \\pi)^2 k^2} \\exp (-i 2 \\pi k t)\\right|_{0}^{1}+\\int_{0}^{1} \\frac{x^{\\prime\\prime}(t)}{(2 \\pi)^2 k^2} \\exp (-i 2 \\pi k t) d t \\mid\\\\\n",
    "&=\\left|\\int_{0}^{1} \\frac{x^{\\prime \\prime}(t)}{(2 \\pi)^{2} k^{2}} \\exp (-i 2 \\pi k t) d t\\right| \\\\\n",
    "& \\leq\\left|\\frac{1}{k^{2}}\\right| \\int_{0}^{1}\\left|\\frac{x^{\\prime \\prime}(t)}{(2 \\pi)^{2}}\\right| d t \\\\\n",
    "&=\\frac{C_{2}}{|k|^{2}}  \\text{ ∎}\\end{aligned}$$"
   ]
  },
  {
   "cell_type": "markdown",
   "metadata": {},
   "source": [
    "2. (Sampling a sum of sinusoids) We are interested in a signal $x$ belonging to the unit interval [0,1] of the form\n",
    "$$\n",
    "x(t):=a_{1} \\exp \\left(i 2 \\pi k_{1} t\\right)+a_{2} \\exp \\left(i 2 \\pi k_{2} t\\right)\n",
    "$$\n",
    "where the amplitudes $a_{1}$ and $a_{2}$ are complex numbers, and the frequencies $k_{1}$ and $k_{2}$ are known integers. We sample the signal at $N$ equispaced locations $0,1 / N, 2 / N, \\ldots,$ $(N-1) / N,$ for some positive integer $N$\n",
    "\n",
    "(a) What value of $N$ is required by the Sampling Theorem to guarantee that we can reconstruct $x$ from the samples?\n",
    "\n"
   ]
  },
  {
   "cell_type": "markdown",
   "metadata": {},
   "source": [
    "By Nyquist-Shannon-Kotelnikov sampling theorem, \n",
    "    \n",
    "with cut-off frequency $\\frac{k_c}{T}$, a bandlimited signal $x \\in L_{2}[0,T)$, when $T>0$ as long as:\n",
    "        \n",
    "$$N\\ge 2k_c+1$$\n",
    "\n",
    "And $2k_c+1$ is Nyquist rate where:\n",
    "$$k_c=max(|k1|,|k2|)$$\n",
    "\n",
    "Thus, $$N\\ge 2(max(|k1|,|k2|))+1$$"
   ]
  },
  {
   "cell_type": "markdown",
   "metadata": {},
   "source": [
    "(b) Write a system of equations in matrix form mapping the amplitudes $a_{1}$ and $a_{2}$ to the samples $x_{N}$\n",
    "\n",
    "\n"
   ]
  },
  {
   "cell_type": "markdown",
   "metadata": {},
   "source": [
    "Based on the complex sinusoid formula we have for this question, we can change the form in terms of N: \n",
    "$$x(t):=a_{1} \\exp \\left(\\frac{i 2 \\pi k_{1} i}{N}\\right)+a_{2} \\exp \\left(\\frac{i 2 \\pi k_{2} i}{N}\\right) \\text{...where $0\\le i \\le N-1$}$$\n",
    "\n",
    "Therefore, we can write the matrix equation of $x=\\psi_{k_j} A$ where $j=[1,2]$:\n",
    "\n",
    "$$\\left[\\begin{array}{c}\n",
    "x_{1} \\\\\n",
    "x_{2} \\\\\n",
    "\\vdots \\\\\n",
    "x_{N}\n",
    "\\end{array}\\right]=\\left[\\begin{array}{cc}\n",
    "\\exp \\left(i 2 \\pi k_{1} 0\\right) & \\exp \\left(i 2 \\pi k_{2} 0\\right) \\\\\n",
    "\\exp \\left(\\frac{i 2 \\pi k_{1}}{N}\\right) & \\exp \\left(\\frac{i 2 \\pi k_{2}}{N}\\right) \\\\\n",
    "\\vdots & \\vdots \\\\\n",
    "\\exp \\left(\\frac{i 2 \\pi k_{1}N-i 2 \\pi k_{1})}{N}\\right) & \\exp \\left(\\frac{i 2 \\pi k_{2}N-i 2 \\pi k_{2})}{N}\\right)\n",
    "\\end{array}\\right]\\left[\\begin{array}{l}\n",
    "a_{1} \\\\\n",
    "a_{2}\n",
    "\\end{array}\\right]$$"
   ]
  },
  {
   "cell_type": "markdown",
   "metadata": {},
   "source": [
    "(c) Under what condition on $N, k_{1}$ and $k_{2}$ can we recover the amplitudes from the samples by solving the system of equations? Can $N$ be smaller than the value dictated by the Sampling Theorem? If yes, give an example. If not, explain why.\n",
    "\n"
   ]
  },
  {
   "cell_type": "markdown",
   "metadata": {},
   "source": [
    "In order to recover the amplitudes from the sample, the $\\psi$ has to be invertible which means $\\psi_{k1}$ and $\\psi_{k2}$ have to be linearly independent that $$k_2-k_1 \\mod N\\ne0$$\n",
    "\n",
    "Therefore, N can be smaller than the value dictated by the Sampling Theorem becase N can be 2 at the minimum: \n",
    "\n",
    "Let $k_1=1, k_2=2$, then N = 2 and: \n",
    "\n",
    "$$\\left[\\begin{array}{c}\n",
    "x(0) \\\\\n",
    "x(\\frac{1 }{ N}=\\frac{1}{2})\n",
    "\\end{array}\\right]=\\left[\\begin{array}{cc}\n",
    "1 & 1 \\\\\n",
    "\\exp (i \\pi) & \\exp (i 2 \\pi)\n",
    "\\end{array}\\right]\\left[\\begin{array}{l}\n",
    "a_{1} \\\\\n",
    "a_{2}\n",
    "\\end{array}\\right]$$"
   ]
  },
  {
   "cell_type": "markdown",
   "metadata": {},
   "source": [
    "(d) What is the limitation of this approach, which could make it unrealistic?"
   ]
  },
  {
   "cell_type": "markdown",
   "metadata": {},
   "source": [
    "The limitation would be the the exact expression of the signal x, since in the real world there is not a realistic thing to find out that x is the summation of N sinusoids of known frequencies, and it is really hard to achieve. "
   ]
  },
  {
   "cell_type": "markdown",
   "metadata": {},
   "source": [
    "3. (Sampling theorem for bandpass signals) Bandpass signals are signals that have nonzero Fourier coefficients only in a fixed band of the frequency domain. We are interested in sampling a bandpass signal $x$ belonging to the unit interval [0,1] that has nonzero Fourierseries coefficients between $k_{1}$ and $k_{2}$, inclusive, where $k_{1}$ and $k_{2}$ are known positive integers such that $k_{2}>k_{1}$\n",
    "\n",
    "\n",
    "(a) We sample the signal at $N$ equispaced locations $0,1 / N, 2 / N, \\ldots,(N-1) / N$. What value of $N$ is required by the Sampling Theorem to guarantee that we can reconstruct $x$ from the samples?\n",
    "\n"
   ]
  },
  {
   "cell_type": "markdown",
   "metadata": {},
   "source": [
    "Since $k_2>k_1$ and based on the sampling theorem I mentioned on question 2 part a, then: $$N\\ge 2(max(|k1|,|k2|))+1=2k_2+1\n",
    "$$"
   ]
  },
  {
   "cell_type": "markdown",
   "metadata": {},
   "source": [
    "(b) Assume that $k_{2}:=k_{1}+2 \\tilde{k}_{c},$ where $\\tilde{k}_{c}$ is a positive integer. For any $N \\geq 2 \\tilde{k}_{c}+1$ it is possible to recover the signal from the samples. Explain why (you don't need to derive any explicit expressions).\n"
   ]
  },
  {
   "cell_type": "markdown",
   "metadata": {},
   "source": [
    "Because the frequencies $k_1$ and $k_2$ that contruct the $\\psi_{k_1}$ & $\\psi_{k_2}$ are within the range of 2$\\tilde{k_c}$, which is smaller than $N$ due to $N \\ge 2\\tilde{k_c}+1$. As a result, it is positive to recover the signal."
   ]
  },
  {
   "cell_type": "markdown",
   "metadata": {},
   "source": [
    "(c) Assume that $k_{2}:=k_{1}+2 \\tilde{k}_{c}, N \\geq 2 \\tilde{k}_{c}+1,$ and $m N=k_{1}+\\tilde{k}_{c}$ for some integer $m$. Explain precisely how to recover $x$ from the samples in this case."
   ]
  },
  {
   "cell_type": "markdown",
   "metadata": {},
   "source": [
    "Since it is on a uniform grid then we can set $\\psi_{k}$ where $k\\in[- \\tilde{k}_{c}, \\tilde{k}_{c}]$, then: \n",
    "$$\\psi_{-\\tilde{k}_{c}}=\\psi_{-\\tilde{k}_{c}+mN}=\\psi_{-\\tilde{k}_{c}+k_{1}+\\tilde{k}_{c}}=\\psi_{k_1}$$\n",
    "\n",
    "And, \n",
    "$$\\psi_{\\tilde{k}_{c}}=\\psi_{\\tilde{k}_{c}+mN}=\\psi_{\\tilde{k}_{c}+k_{1}+\\tilde{k}_{c}}=\\psi_{k_2}\\text{, since $k_2=k_1+2\\tilde{k}_{c}$}$$"
   ]
  },
  {
   "cell_type": "markdown",
   "metadata": {},
   "source": [
    "Then the Fourier coefficients $\\hat{x}$ are recovered as: \n",
    "$$\\hat{x}_{k}=\\frac{T}{N}\\left\\langle x_{[N]}, \\psi_{k}\\right\\rangle$$\n",
    "\n",
    "By the definition of Aliasing on the notes 2.5: \n",
    "$$\\hat{x}^{\\mathrm{rec}}[k]=\\sum_{\\{(m-k) \\bmod N=0\\}} \\hat{x}[m]$$\n",
    "\n",
    "then since $k_2-k_c=k_1+k_c=mN $, and $k_1-(-k_c)=k_1+k_c=mN $ where $ mN \\mod N =0 $, \n",
    "then: \n",
    "\n",
    "$$\\hat{x}^{\\mathrm{rec}}[-k_c]=\\hat{x}[k_1]$$\n",
    "$$\\cdots$$\n",
    "$$\\hat{x}^{\\mathrm{rec}}[k_c]=\\hat{x}[k_2]$$\n",
    "\n",
    "Thus, we can say that\n",
    "$$x=\\sum_{k=k1}^{k_2}\\hat{x}[k]\\psi_{k} \\text{ ∎}$$"
   ]
  },
  {
   "cell_type": "markdown",
   "metadata": {},
   "source": [
    "4. (Frequency analysis of musical notes) In this exercise you will use the code and data in the musicdata folder. Make sure you have the python packages sklearn, pandas, sounddevice, and soundfile installed. The skeleton code for you to work with is given in analysis. py which uses tools given in music_tools.py. The data used here comes from the NSynth dataset.\n",
    "\n",
    "(a) Plot the audio signals for the first signal in the training set, and the first vocal signal in the training set (i.e., the first signal whose instrument_family_str field is 'vocal' in the dataframe). In the titles of your two plots, include the instrument_family_str and the frequency (in $\\mathrm{Hz}$ ). We recommend you also use play_signal to hear what the signals sound like.\n",
    "\n"
   ]
  },
  {
   "cell_type": "code",
   "execution_count": 8,
   "metadata": {
    "collapsed": true
   },
   "outputs": [
    {
     "name": "stdout",
     "output_type": "stream",
     "text": [
      "Collecting sounddevice\n",
      "  Downloading sounddevice-0.4.1-py3.cp32.cp33.cp34.cp35.cp36.cp37.cp38.cp39.pp32.pp33.pp34.pp35.pp36.pp37-none-macosx_10_6_x86_64.whl (78 kB)\n",
      "\u001b[K     |████████████████████████████████| 78 kB 2.0 MB/s eta 0:00:011\n",
      "\u001b[?25hRequirement already satisfied: CFFI>=1.0 in /Users/herculesgao/opt/anaconda3/lib/python3.7/site-packages (from sounddevice) (1.12.3)\n",
      "Requirement already satisfied: pycparser in /Users/herculesgao/opt/anaconda3/lib/python3.7/site-packages (from CFFI>=1.0->sounddevice) (2.19)\n",
      "Installing collected packages: sounddevice\n",
      "Successfully installed sounddevice-0.4.1\n",
      "\u001b[33mWARNING: You are using pip version 20.1.1; however, version 21.0.1 is available.\n",
      "You should consider upgrading via the '/Users/herculesgao/opt/anaconda3/bin/python -m pip install --upgrade pip' command.\u001b[0m\n",
      "Note: you may need to restart the kernel to use updated packages.\n"
     ]
    }
   ],
   "source": [
    "pip install sounddevice"
   ]
  },
  {
   "cell_type": "code",
   "execution_count": 10,
   "metadata": {
    "collapsed": true
   },
   "outputs": [
    {
     "name": "stdout",
     "output_type": "stream",
     "text": [
      "Collecting pysoundfile\n",
      "  Downloading PySoundFile-0.9.0.post1-py2.py3.cp26.cp27.cp32.cp33.cp34.cp35.cp36.pp27.pp32.pp33-none-macosx_10_5_x86_64.macosx_10_6_intel.macosx_10_9_intel.macosx_10_9_x86_64.whl (573 kB)\n",
      "\u001b[K     |████████████████████████████████| 573 kB 287 kB/s eta 0:00:01\n",
      "\u001b[?25hRequirement already satisfied: cffi>=0.6 in /Users/herculesgao/opt/anaconda3/lib/python3.7/site-packages (from pysoundfile) (1.12.3)\n",
      "Requirement already satisfied: pycparser in /Users/herculesgao/opt/anaconda3/lib/python3.7/site-packages (from cffi>=0.6->pysoundfile) (2.19)\n",
      "Installing collected packages: pysoundfile\n",
      "Successfully installed pysoundfile-0.9.0.post1\n",
      "\u001b[33mWARNING: You are using pip version 20.1.1; however, version 21.0.1 is available.\n",
      "You should consider upgrading via the '/Users/herculesgao/opt/anaconda3/bin/python -m pip install --upgrade pip' command.\u001b[0m\n",
      "Note: you may need to restart the kernel to use updated packages.\n"
     ]
    }
   ],
   "source": [
    "pip install pysoundfile"
   ]
  },
  {
   "cell_type": "code",
   "execution_count": 2,
   "metadata": {
    "scrolled": false
   },
   "outputs": [
    {
     "name": "stdout",
     "output_type": "stream",
     "text": [
      "                          filename   frequency  instrument_family  \\\n",
      "0      string_acoustic_014-064-127  329.627557                  8   \n",
      "1  keyboard_electronic_001-065-127  349.228231                  4   \n",
      "2       bass_synthetic_034-065-127  349.228231                  0   \n",
      "3      guitar_acoustic_010-064-100  329.627557                  3   \n",
      "4  keyboard_electronic_001-060-075  261.625565                  4   \n",
      "\n",
      "  instrument_family_str  pitch  sample_rate  \n",
      "0                string     64        16000  \n",
      "1              keyboard     65        16000  \n",
      "2                  bass     65        16000  \n",
      "3                guitar     64        16000  \n",
      "4              keyboard     60        16000  \n",
      "Number of training examples: 1000\n",
      "Number of test examples: 283\n",
      "Pitches: [60, 62, 64, 65, 67, 69, 71, 72]\n",
      "{'keyboard', 'flute', 'reed', 'brass', 'guitar', 'mallet', 'vocal', 'bass', 'string', 'organ'}\n"
     ]
    },
    {
     "data": {
      "text/plain": [
       "Text(0.5, 1.0, 'vocal, frequency: 391.99543598174927 Hz.')"
      ]
     },
     "execution_count": 2,
     "metadata": {},
     "output_type": "execute_result"
    },
    {
     "data": {
      "image/png": "[encoded data removed]",
      "text/plain": [
       "<Figure size 432x288 with 1 Axes>"
      ]
     },
     "metadata": {
      "needs_background": "light"
     },
     "output_type": "display_data"
    },
    {
     "data": {
      "image/png": "[encoded data removed]",
      "text/plain": [
       "<Figure size 432x288 with 1 Axes>"
      ]
     },
     "metadata": {
      "needs_background": "light"
     },
     "output_type": "display_data"
    }
   ],
   "source": [
    "from music_tools import *\n",
    "import numpy as np\n",
    "import matplotlib.pyplot as plt\n",
    "from sklearn.linear_model import LogisticRegression\n",
    "\n",
    "    \n",
    "\n",
    "df_train,df_test = load_df()\n",
    "print(df_train.head())\n",
    "print(\"Number of training examples: %d\"%len(df_train))\n",
    "print(\"Number of test examples: %d\"%len(df_test))\n",
    "sigs_train,sigs_test = load_signals(df_train),load_signals(df_test)\n",
    "y_train,y_test = df_train['pitch'].values,df_test['pitch'].values\n",
    "all_pitches = sorted({p for p in y_train})\n",
    "\n",
    "\n",
    "print('Pitches:',all_pitches)\n",
    "print({s for s in df_train['instrument_family_str']})\n",
    "\n",
    "#question 1\n",
    "\n",
    "stren_train = df_train['instrument_family_str'][0] \n",
    "freq_train = df_train['frequency'][0]\n",
    "\n",
    "    \n",
    "plt.figure()\n",
    "plt.plot(np.linspace(1,len(sigs_train[0]),len(sigs_train[0])),sigs_train[0])\n",
    "plt.xlabel('t')\n",
    "plt.ylabel('signal')\n",
    "plt.title(stren_train + \", frequency: \"+ str(freq_train)+\" Hz.\")\n",
    "    \n",
    "ind_first_vocal = df_train['instrument_family_str'][df_train['instrument_family_str']=='vocal'].index[0]\n",
    "    \n",
    "stren_vocal_train = df_train['instrument_family_str'][ind_first_vocal] \n",
    "freq_vocal_train = df_train['frequency'][ind_first_vocal]\n",
    "    \n",
    "plt.figure()\n",
    "plt.plot(np.linspace(1,len(sigs_train[ind_first_vocal]),len(sigs_train[ind_first_vocal])),sigs_train[ind_first_vocal])\n",
    "plt.xlabel('t')\n",
    "plt.ylabel('signal')\n",
    "plt.title( stren_vocal_train+\", frequency: \"+str(freq_vocal_train) +\" Hz.\")\n",
    "\n",
    "\n"
   ]
  },
  {
   "cell_type": "markdown",
   "metadata": {},
   "source": [
    "(b) For each signal in the test set, compute the (strictly positive) frequency with the largest amplitude (in absolute value), and convert it to a pitch number (using the tools in music_tools). This will be our predicted pitch.\n",
    "\n",
    "    i. Report what overall fraction of the signals in the test set you accurately predict using this method (i.e., your overall accuracy).\n",
    "\n"
   ]
  },
  {
   "cell_type": "code",
   "execution_count": 3,
   "metadata": {
    "scrolled": false
   },
   "outputs": [
    {
     "data": {
      "text/html": [
       "<div>\n",
       "<style scoped>\n",
       "    .dataframe tbody tr th:only-of-type {\n",
       "        vertical-align: middle;\n",
       "    }\n",
       "\n",
       "    .dataframe tbody tr th {\n",
       "        vertical-align: top;\n",
       "    }\n",
       "\n",
       "    .dataframe thead th {\n",
       "        text-align: right;\n",
       "    }\n",
       "</style>\n",
       "<table border=\"1\" class=\"dataframe\">\n",
       "  <thead>\n",
       "    <tr style=\"text-align: right;\">\n",
       "      <th></th>\n",
       "      <th>filename</th>\n",
       "      <th>frequency</th>\n",
       "      <th>instrument_family</th>\n",
       "      <th>instrument_family_str</th>\n",
       "      <th>pitch</th>\n",
       "      <th>sample_rate</th>\n",
       "    </tr>\n",
       "  </thead>\n",
       "  <tbody>\n",
       "    <tr>\n",
       "      <th>1000</th>\n",
       "      <td>guitar_electronic_022-071-025</td>\n",
       "      <td>493.883301</td>\n",
       "      <td>3</td>\n",
       "      <td>guitar</td>\n",
       "      <td>71</td>\n",
       "      <td>16000</td>\n",
       "    </tr>\n",
       "    <tr>\n",
       "      <th>1001</th>\n",
       "      <td>keyboard_electronic_078-071-025</td>\n",
       "      <td>493.883301</td>\n",
       "      <td>4</td>\n",
       "      <td>keyboard</td>\n",
       "      <td>71</td>\n",
       "      <td>16000</td>\n",
       "    </tr>\n",
       "    <tr>\n",
       "      <th>1002</th>\n",
       "      <td>reed_acoustic_018-071-025</td>\n",
       "      <td>493.883301</td>\n",
       "      <td>7</td>\n",
       "      <td>reed</td>\n",
       "      <td>71</td>\n",
       "      <td>16000</td>\n",
       "    </tr>\n",
       "    <tr>\n",
       "      <th>1003</th>\n",
       "      <td>string_acoustic_014-064-025</td>\n",
       "      <td>329.627557</td>\n",
       "      <td>8</td>\n",
       "      <td>string</td>\n",
       "      <td>64</td>\n",
       "      <td>16000</td>\n",
       "    </tr>\n",
       "    <tr>\n",
       "      <th>1004</th>\n",
       "      <td>string_acoustic_057-072-075</td>\n",
       "      <td>523.251131</td>\n",
       "      <td>8</td>\n",
       "      <td>string</td>\n",
       "      <td>72</td>\n",
       "      <td>16000</td>\n",
       "    </tr>\n",
       "  </tbody>\n",
       "</table>\n",
       "</div>"
      ],
      "text/plain": [
       "                             filename   frequency  instrument_family  \\\n",
       "1000    guitar_electronic_022-071-025  493.883301                  3   \n",
       "1001  keyboard_electronic_078-071-025  493.883301                  4   \n",
       "1002        reed_acoustic_018-071-025  493.883301                  7   \n",
       "1003      string_acoustic_014-064-025  329.627557                  8   \n",
       "1004      string_acoustic_057-072-075  523.251131                  8   \n",
       "\n",
       "     instrument_family_str  pitch  sample_rate  \n",
       "1000                guitar     71        16000  \n",
       "1001              keyboard     71        16000  \n",
       "1002                  reed     71        16000  \n",
       "1003                string     64        16000  \n",
       "1004                string     72        16000  "
      ]
     },
     "execution_count": 3,
     "metadata": {},
     "output_type": "execute_result"
    }
   ],
   "source": [
    "df_test.head()"
   ]
  },
  {
   "cell_type": "code",
   "execution_count": 4,
   "metadata": {},
   "outputs": [],
   "source": [
    "np.fft.fft?"
   ]
  },
  {
   "cell_type": "code",
   "execution_count": 12,
   "metadata": {},
   "outputs": [
    {
     "name": "stdout",
     "output_type": "stream",
     "text": [
      "The test accuracy is 0.7208480565371025\n"
     ]
    }
   ],
   "source": [
    "pitch_test = [] \n",
    "mis_fft = [] \n",
    "mis_fftfreq = [] \n",
    "mis_ind = []\n",
    "\n",
    "for i in range(0,len(sigs_test)):\n",
    "    fft_i = np.fft.fft(sigs_test[i])\n",
    "    fft_i_freq = np.fft.fftfreq(len(sigs_test[i]))\n",
    "    fft_i_max_ind = np.argmax(np.abs(fft_i)) \n",
    "    fft_i_max_freq = fft_i_freq[fft_i_max_ind]\n",
    "    freq_in_hertz = abs(fft_i_max_freq * 16000)\n",
    "    if freq_in_hertz == 0: \n",
    "        fft_i_pitch = 0\n",
    "        pitch_test.append(fft_i_pitch) \n",
    "    else:\n",
    "        fft_i_pitch = freq2pitch(freq_in_hertz) \n",
    "        pitch_test.append(fft_i_pitch)\n",
    "    if fft_i_pitch != df_test['pitch'].to_numpy()[i]: \n",
    "        if len(mis_fft) < 2:\n",
    "            mis_fft.append(fft_i) \n",
    "            mis_fftfreq.append(fft_i_freq) \n",
    "            mis_ind.append(i)\n",
    "test_accuarcy = np.sum(df_test['pitch'] == pitch_test) /len(df_test['pitch'])\n",
    "\n",
    "print(\"The test accuracy is \"+ str(test_accuarcy))"
   ]
  },
  {
   "cell_type": "markdown",
   "metadata": {},
   "source": [
    "\n",
    "    ii. For the first two signals you misclassify (in the order they occur in the test set), give plots of their absolute DFT coefficients (use np.fft.fft and make one plot per signal). In the title of your plots, include the instrument_family_str, the true frequency, and the predicted frequency (in Hz). Make sure to plot the coefficients on an axis centered at 0 by using fftfreq with the correct arguments.\n",
    "\n"
   ]
  },
  {
   "cell_type": "code",
   "execution_count": 39,
   "metadata": {},
   "outputs": [
    {
     "data": {
      "image/png": "[encoded data removed]",
      "text/plain": [
       "<Figure size 432x288 with 1 Axes>"
      ]
     },
     "metadata": {
      "needs_background": "light"
     },
     "output_type": "display_data"
    },
    {
     "data": {
      "image/png": "[encoded data removed]",
      "text/plain": [
       "<Figure size 432x288 with 1 Axes>"
      ]
     },
     "metadata": {
      "needs_background": "light"
     },
     "output_type": "display_data"
    }
   ],
   "source": [
    "for i in range(0,len(mis_fft)): \n",
    "    plt.figure()\n",
    "    plt.plot(mis_fftfreq[i]*10000,np.abs(mis_fft[i])) \n",
    "    plt.xlabel(\"frequency\")\n",
    "    plt.ylabel(\"absolute DFT coefficients\") \n",
    "    df_test_temp = df_test.reset_index()\n",
    "    instru_str = df_test_temp['instrument_family_str'][mis_ind[i]] \n",
    "    true_freq_test = df_test_temp['frequency'][mis_ind[i]] \n",
    "    pred_freq_test = pitch2freq(pitch_test[mis_ind[i]]) \n",
    "    plt.title(instru_str +\" with true frequency: \"+str(true_freq_test) +\" Hz and predicted frequency: \"+ str(pred_freq_test)+\" Hz.\" )\n",
    "    \n",
    "    "
   ]
  },
  {
   "cell_type": "markdown",
   "metadata": {},
   "source": [
    "       iii. What is the instrument family for which the method got the highest fraction of incorrect predictions (i.e., number incorrect divided by number of examples from that family)?\n",
    "\n"
   ]
  },
  {
   "cell_type": "code",
   "execution_count": 23,
   "metadata": {},
   "outputs": [
    {
     "data": {
      "text/plain": [
       "(array([  0,   3,   4,   6,   7,   8,  10,  12,  13,  14,  15,  16,  17,\n",
       "         19,  20,  21,  24,  25,  27,  28,  29,  30,  32,  33,  34,  35,\n",
       "         36,  39,  40,  41,  42,  43,  44,  45,  47,  48,  49,  50,  52,\n",
       "         55,  56,  57,  58,  60,  61,  62,  63,  64,  65,  66,  67,  68,\n",
       "         69,  73,  74,  75,  77,  78,  80,  81,  82,  83,  84,  85,  86,\n",
       "         88,  90,  92,  93,  94,  95,  96,  97,  99, 100, 101, 102, 103,\n",
       "        104, 105, 106, 108, 112, 115, 116, 117, 118, 119, 121, 122, 125,\n",
       "        126, 127, 128, 129, 130, 131, 132, 134, 135, 137, 138, 139, 140,\n",
       "        141, 143, 144, 145, 146, 147, 148, 149, 150, 152, 154, 157, 158,\n",
       "        160, 161, 162, 163, 164, 166, 167, 169, 170, 171, 172, 173, 175,\n",
       "        178, 180, 182, 184, 185, 188, 190, 191, 194, 196, 197, 200, 201,\n",
       "        203, 204, 205, 206, 207, 208, 209, 211, 212, 213, 214, 215, 217,\n",
       "        220, 221, 222, 223, 225, 226, 227, 228, 230, 231, 232, 233, 234,\n",
       "        235, 236, 237, 238, 239, 240, 241, 242, 243, 244, 245, 246, 247,\n",
       "        248, 250, 251, 252, 253, 254, 255, 257, 258, 259, 260, 261, 262,\n",
       "        265, 268, 270, 271, 272, 274, 276, 277, 279]),)"
      ]
     },
     "execution_count": 23,
     "metadata": {},
     "output_type": "execute_result"
    }
   ],
   "source": [
    "df_series = np.where(df_test_temp['pitch'] == pitch_test)\n",
    "#df_series"
   ]
  },
  {
   "cell_type": "code",
   "execution_count": 30,
   "metadata": {},
   "outputs": [
    {
     "name": "stdout",
     "output_type": "stream",
     "text": [
      "The instrument family: vocal, which the method got the highest fraction of incorrect predictions \n"
     ]
    }
   ],
   "source": [
    "df_series = df_test_temp['pitch'] == pitch_test\n",
    "df_series_misclassify = ~df_series \n",
    "df_series_misclassify.astype(int)\n",
    "df_test_temp['misclassify'] = df_series_misclassify\n",
    "\n",
    "total_per_str = np.unique(df_test['instrument_family_str'],return_counts=True)\n",
    "misclass_per_str =df_test_temp.groupby('instrument_family_str')['misclassify'].sum()\n",
    "ratio_misclassify = misclass_per_str / total_per_str[1]\n",
    "\n",
    "ind_most_misclassify = np.argmax(ratio_misclassify.to_numpy()) \n",
    "str_most_misclassify = total_per_str[0][ind_most_misclassify] \n",
    "print(\"The instrument family: \"+str_most_misclassify+\", which the method got the highest fraction of incorrect predictions \")"
   ]
  },
  {
   "cell_type": "markdown",
   "metadata": {},
   "source": [
    "    iv. Why does your answer in the previous part make sense?\n",
    "    \n",
    "Because human voices are complex and varied by different people which is very hard to hit on the specific consistent frequency and pitch."
   ]
  },
  {
   "cell_type": "markdown",
   "metadata": {},
   "source": [
    "(c) Use the LogisticRegression class in sklearn to fit a pitch classifier on the training set using the absolute DFT coefficients as the features. Use the default parameters but set multi_class to 'multinomial' and solver to 'lbfgs'. Note: We will use the negative frequencies as well for convenience, even though they have the same magnitudes as the positive (the $L_{2}$ regularization will take care of it for us).\n",
    "\n",
    "i. Report your score on the test set as computed by the model.\n"
   ]
  },
  {
   "cell_type": "code",
   "execution_count": 31,
   "metadata": {},
   "outputs": [
    {
     "name": "stdout",
     "output_type": "stream",
     "text": [
      "The testing accuracy is 0.9964664310954063.\n"
     ]
    },
    {
     "name": "stderr",
     "output_type": "stream",
     "text": [
      "/Users/herculesgao/opt/anaconda3/lib/python3.7/site-packages/sklearn/linear_model/logistic.py:947: ConvergenceWarning: lbfgs failed to converge. Increase the number of iterations.\n",
      "  \"of iterations.\", ConvergenceWarning)\n"
     ]
    }
   ],
   "source": [
    "feature_DFT = np.abs(np.fft.fft(sigs_train)) \n",
    "feature_DFT_test = np.abs(np.fft.fft(sigs_test))\n",
    "model = LogisticRegression(multi_class='multinomial',solver='lbfgs')\n",
    "model.fit(feature_DFT,df_train['pitch'])\n",
    "y_pred_pitch = model.predict(feature_DFT_test)\n",
    "test_accuracy = np.sum(y_pred_pitch == df_test['pitch']) / len(df_test)\n",
    "\n",
    "print(\"The testing accuracy is \"+ str(test_accuracy))"
   ]
  },
  {
   "cell_type": "markdown",
   "metadata": {},
   "source": [
    "\n",
    "ii. Give 3 plots of the model coefficients for pitches $60,65,$ and $72 .$ Make sure to plot the coefficients on an axis centered at 0 by using fftfreq with the correct arguments (because the coefficients correspond to frequencies).\n"
   ]
  },
  {
   "cell_type": "code",
   "execution_count": 41,
   "metadata": {},
   "outputs": [
    {
     "data": {
      "image/png": "[encoded data removed]",
      "text/plain": [
       "<Figure size 432x288 with 1 Axes>"
      ]
     },
     "metadata": {
      "needs_background": "light"
     },
     "output_type": "display_data"
    },
    {
     "data": {
      "image/png": "[encoded data removed]",
      "text/plain": [
       "<Figure size 432x288 with 1 Axes>"
      ]
     },
     "metadata": {
      "needs_background": "light"
     },
     "output_type": "display_data"
    },
    {
     "data": {
      "image/png": "[encoded data removed]",
      "text/plain": [
       "<Figure size 432x288 with 1 Axes>"
      ]
     },
     "metadata": {
      "needs_background": "light"
     },
     "output_type": "display_data"
    }
   ],
   "source": [
    "model_coefs = model.coef_\n",
    "select_pitches=[60,65,72]\n",
    "pitch_ind_selected = np.unique(df_train['pitch']).searchsorted(select_pitches)\n",
    "coefs_pitch_selected = model_coefs[pitch_ind_selected]\n",
    "for i in range(0,len(coefs_pitch_selected)):\n",
    "    plt.figure() \n",
    "    plt.plot(np.fft.fftfreq(len(sigs_test[0]))*10000,coefs_pitch_selected.real[i]) \n",
    "    plt.xlabel('frequency')\n",
    "    plt.ylabel('coefficients')\n",
    "    plt.title(f\"pitch = {select_pitches[i]}.\")"
   ]
  },
  {
   "cell_type": "markdown",
   "metadata": {},
   "source": [
    "iii. Can you (very roughly) interpret the graphs in the previous part?"
   ]
  },
  {
   "cell_type": "markdown",
   "metadata": {},
   "source": [
    "    1) For the graph of pitch 60, when the frequency closes to 0 the Fourier coefficients rise the highest point which is higher than 0.006 in general, and the Fourier coefficients rise at around 4000/-4000 frequency and around 2000/-2000 frequency. \n",
    "    2) For the graph of pitch 65, the Fourier coefficients is less spread and only rises to 0.012 when frequency come down to around 0. There are only small bumps at around 3000/-3000 frequency and around 1000/-1000 frequency.\n",
    "    3) For the graph of pitch 72, the Fourier coefficients pattern is very similar to pitch 60, however the coefficients decrease a bit when the frequency is really close to 0 and it has more bumps from -5000 to 5000 frequency."
   ]
  }
 ],
 "metadata": {
  "kernelspec": {
   "display_name": "Python 3",
   "language": "python",
   "name": "python3"
  },
  "language_info": {
   "codemirror_mode": {
    "name": "ipython",
    "version": 3
   },
   "file_extension": ".py",
   "mimetype": "text/x-python",
   "name": "python",
   "nbconvert_exporter": "python",
   "pygments_lexer": "ipython3",
   "version": "3.7.4"
  }
 },
 "nbformat": 4,
 "nbformat_minor": 2
}
