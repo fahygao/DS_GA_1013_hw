{
 "cells": [
  {
   "cell_type": "code",
   "execution_count": 1,
   "metadata": {},
   "outputs": [],
   "source": [
    "%matplotlib inline \n",
    "import numpy as np\n",
    "from matplotlib import pyplot as plt"
   ]
  },
  {
   "cell_type": "markdown",
   "metadata": {},
   "source": [
    "### Utility functions"
   ]
  },
  {
   "cell_type": "code",
   "execution_count": 2,
   "metadata": {},
   "outputs": [],
   "source": [
    "\n",
    "def obj(w):\n",
    "    ## calculates the obj functions\n",
    "    r = X*w-y;\n",
    "    return np.sum(np.multiply(r,r))/2 +  lamda * np.sum(np.abs(w))\n"
   ]
  },
  {
   "cell_type": "markdown",
   "metadata": {},
   "source": [
    "## Data"
   ]
  },
  {
   "cell_type": "code",
   "execution_count": 3,
   "metadata": {},
   "outputs": [],
   "source": [
    "np.random.seed(50)\n",
    "\n",
    "N = 100\n",
    "dim = 30\n",
    "lamda = 1/np.sqrt(N);\n",
    "\n",
    "w = np.zeros(dim)\n",
    "n_nonzero = 15\n",
    "w[np.random.choice(range(dim), n_nonzero, False)] = np.random.randn(n_nonzero)\n",
    "w = np.matrix(w.reshape(-1, 1))\n",
    "\n",
    "X = np.matrix(np.random.multivariate_normal([0.0]*dim, np.eye(dim), size = N))\n",
    "y = X*w"
   ]
  },
  {
   "cell_type": "markdown",
   "metadata": {},
   "source": [
    "Our objective function of interest is:\n",
    "$$\\frac{1}{2} \\| Xw - y \\|^2 + \\lambda |w|_1 $$\n",
    "\n",
    "In the cell above, the variables X, y, w and lamda corresponds to $X, y, w$ and $\\lambda$ in the equation above."
   ]
  },
  {
   "cell_type": "code",
   "execution_count": 4,
   "metadata": {},
   "outputs": [
    {
     "name": "stdout",
     "output_type": "stream",
     "text": [
      "Optimal Objective Function Value:  1.3043384900597284\n"
     ]
    }
   ],
   "source": [
    "opt = obj(w)\n",
    "print('Optimal Objective Function Value: ', opt)"
   ]
  },
  {
   "cell_type": "markdown",
   "metadata": {},
   "source": [
    "## Optimal Value using SKLearn"
   ]
  },
  {
   "cell_type": "code",
   "execution_count": 5,
   "metadata": {},
   "outputs": [
    {
     "data": {
      "text/plain": [
       "Lasso(alpha=0.001, copy_X=True, fit_intercept=False, max_iter=1000,\n",
       "      normalize=False, positive=False, precompute=False, random_state=None,\n",
       "      selection='cyclic', tol=0.0001, warm_start=False)"
      ]
     },
     "execution_count": 5,
     "metadata": {},
     "output_type": "execute_result"
    }
   ],
   "source": [
    "from sklearn import linear_model\n",
    "clf = linear_model.Lasso(alpha=lamda / N, fit_intercept = False)\n",
    "clf.fit(X, y)"
   ]
  },
  {
   "cell_type": "code",
   "execution_count": 6,
   "metadata": {},
   "outputs": [
    {
     "name": "stdout",
     "output_type": "stream",
     "text": [
      "SKLearn obj val:  1.303641803846212\n"
     ]
    }
   ],
   "source": [
    "print('SKLearn obj val: ', obj(clf.coef_.reshape(-1, 1)) )"
   ]
  },
  {
   "cell_type": "markdown",
   "metadata": {},
   "source": [
    "## Proximal Gradient"
   ]
  },
  {
   "cell_type": "code",
   "execution_count": 31,
   "metadata": {},
   "outputs": [],
   "source": [
    "max_iter = 100 # max number of iterations of proximal gradient method"
   ]
  },
  {
   "cell_type": "code",
   "execution_count": 13,
   "metadata": {},
   "outputs": [],
   "source": [
    "alpha_array = np.logspace(-5, -2, num = 10, base = 10.0) #range over which you search hyperparam"
   ]
  },
  {
   "cell_type": "code",
   "execution_count": 14,
   "metadata": {},
   "outputs": [
    {
     "data": {
      "text/plain": [
       "array([1.00000000e-05, 2.15443469e-05, 4.64158883e-05, 1.00000000e-04,\n",
       "       2.15443469e-04, 4.64158883e-04, 1.00000000e-03, 2.15443469e-03,\n",
       "       4.64158883e-03, 1.00000000e-02])"
      ]
     },
     "execution_count": 14,
     "metadata": {},
     "output_type": "execute_result"
    }
   ],
   "source": [
    "alpha_array"
   ]
  },
  {
   "cell_type": "code",
   "execution_count": 32,
   "metadata": {},
   "outputs": [
    {
     "name": "stdout",
     "output_type": "stream",
     "text": [
      "Alpha:  1e-05\n",
      "iter= 5,\tobjective= 821.989607\n",
      "iter= 10,\tobjective= 810.185825\n",
      "iter= 15,\tobjective= 798.576933\n",
      "iter= 20,\tobjective= 787.159483\n",
      "iter= 25,\tobjective= 775.930089\n",
      "iter= 30,\tobjective= 764.885430\n",
      "iter= 35,\tobjective= 754.022241\n",
      "iter= 40,\tobjective= 743.337322\n",
      "iter= 45,\tobjective= 732.827528\n",
      "iter= 50,\tobjective= 722.489774\n",
      "iter= 55,\tobjective= 712.321030\n",
      "iter= 60,\tobjective= 702.318321\n",
      "iter= 65,\tobjective= 692.478729\n",
      "iter= 70,\tobjective= 682.799387\n",
      "iter= 75,\tobjective= 673.277481\n",
      "iter= 80,\tobjective= 663.910249\n",
      "iter= 85,\tobjective= 654.694979\n",
      "iter= 90,\tobjective= 645.629009\n",
      "iter= 95,\tobjective= 636.709725\n",
      "Alpha:  2.1544346900318823e-05\n",
      "iter= 5,\tobjective= 811.061873\n",
      "iter= 10,\tobjective= 786.234953\n",
      "iter= 15,\tobjective= 762.281524\n",
      "iter= 20,\tobjective= 739.168647\n",
      "iter= 25,\tobjective= 716.864675\n",
      "iter= 30,\tobjective= 695.339195\n",
      "iter= 35,\tobjective= 674.562984\n",
      "iter= 40,\tobjective= 654.507959\n",
      "iter= 45,\tobjective= 635.147131\n",
      "iter= 50,\tobjective= 616.454563\n",
      "iter= 55,\tobjective= 598.405328\n",
      "iter= 60,\tobjective= 580.975467\n",
      "iter= 65,\tobjective= 564.141951\n",
      "iter= 70,\tobjective= 547.882645\n",
      "iter= 75,\tobjective= 532.176272\n",
      "iter= 80,\tobjective= 517.002379\n",
      "iter= 85,\tobjective= 502.341303\n",
      "iter= 90,\tobjective= 488.174140\n",
      "iter= 95,\tobjective= 474.482718\n",
      "Alpha:  4.641588833612782e-05\n",
      "iter= 5,\tobjective= 788.014253\n",
      "iter= 10,\tobjective= 737.219409\n",
      "iter= 15,\tobjective= 690.185078\n",
      "iter= 20,\tobjective= 646.612844\n",
      "iter= 25,\tobjective= 606.228869\n",
      "iter= 30,\tobjective= 568.781823\n",
      "iter= 35,\tobjective= 534.040996\n",
      "iter= 40,\tobjective= 501.794557\n",
      "iter= 45,\tobjective= 471.847979\n",
      "iter= 50,\tobjective= 444.022582\n",
      "iter= 55,\tobjective= 418.154214\n",
      "iter= 60,\tobjective= 394.092332\n",
      "iter= 65,\tobjective= 371.698186\n",
      "iter= 70,\tobjective= 350.844205\n",
      "iter= 75,\tobjective= 331.413180\n",
      "iter= 80,\tobjective= 313.297313\n",
      "iter= 85,\tobjective= 296.397434\n",
      "iter= 90,\tobjective= 280.622292\n",
      "iter= 95,\tobjective= 265.887897\n",
      "Alpha:  0.0001\n",
      "iter= 5,\tobjective= 740.586468\n",
      "iter= 10,\tobjective= 642.637747\n",
      "iter= 15,\tobjective= 559.542797\n",
      "iter= 20,\tobjective= 488.886589\n",
      "iter= 25,\tobjective= 428.661778\n",
      "iter= 30,\tobjective= 377.198850\n",
      "iter= 35,\tobjective= 333.107072\n",
      "iter= 40,\tobjective= 295.226465\n",
      "iter= 45,\tobjective= 262.589183\n",
      "iter= 50,\tobjective= 234.386534\n",
      "iter= 55,\tobjective= 209.941978\n",
      "iter= 60,\tobjective= 188.688803\n",
      "iter= 65,\tobjective= 170.151655\n",
      "iter= 70,\tobjective= 153.931238\n",
      "iter= 75,\tobjective= 139.691647\n",
      "iter= 80,\tobjective= 127.149854\n",
      "iter= 85,\tobjective= 116.066998\n",
      "iter= 90,\tobjective= 106.241138\n",
      "iter= 95,\tobjective= 97.501241\n",
      "Alpha:  0.00021544346900318823\n",
      "iter= 5,\tobjective= 648.046802\n",
      "iter= 10,\tobjective= 481.504689\n",
      "iter= 15,\tobjective= 363.846291\n",
      "iter= 20,\tobjective= 279.683683\n",
      "iter= 25,\tobjective= 218.659612\n",
      "iter= 30,\tobjective= 173.767127\n",
      "iter= 35,\tobjective= 140.236332\n",
      "iter= 40,\tobjective= 114.797867\n",
      "iter= 45,\tobjective= 95.193724\n",
      "iter= 50,\tobjective= 79.851174\n",
      "iter= 55,\tobjective= 67.664565\n",
      "iter= 60,\tobjective= 57.848670\n",
      "iter= 65,\tobjective= 49.839659\n",
      "iter= 70,\tobjective= 43.227881\n",
      "iter= 75,\tobjective= 37.711975\n",
      "iter= 80,\tobjective= 33.067351\n",
      "iter= 85,\tobjective= 29.124390\n",
      "iter= 90,\tobjective= 25.753262\n",
      "iter= 95,\tobjective= 22.853257\n",
      "Alpha:  0.00046415888336127773\n",
      "iter= 5,\tobjective= 487.152816\n",
      "iter= 10,\tobjective= 269.101528\n",
      "iter= 15,\tobjective= 161.430534\n",
      "iter= 20,\tobjective= 104.186268\n",
      "iter= 25,\tobjective= 71.316944\n",
      "iter= 30,\tobjective= 51.032018\n",
      "iter= 35,\tobjective= 37.722047\n",
      "iter= 40,\tobjective= 28.557357\n",
      "iter= 45,\tobjective= 22.015535\n",
      "iter= 50,\tobjective= 17.221896\n",
      "iter= 55,\tobjective= 13.641879\n",
      "iter= 60,\tobjective= 10.930687\n",
      "iter= 65,\tobjective= 8.855858\n",
      "iter= 70,\tobjective= 7.255225\n",
      "iter= 75,\tobjective= 6.013063\n",
      "iter= 80,\tobjective= 5.043463\n",
      "iter= 85,\tobjective= 4.283167\n",
      "iter= 90,\tobjective= 3.684609\n",
      "iter= 95,\tobjective= 3.212060\n",
      "Alpha:  0.001\n",
      "iter= 5,\tobjective= 269.091511\n",
      "iter= 10,\tobjective= 95.940907\n",
      "iter= 15,\tobjective= 45.380992\n",
      "iter= 20,\tobjective= 24.744502\n",
      "iter= 25,\tobjective= 14.565267\n",
      "iter= 30,\tobjective= 9.061531\n",
      "iter= 35,\tobjective= 5.942838\n",
      "iter= 40,\tobjective= 4.125320\n",
      "iter= 45,\tobjective= 3.045048\n",
      "iter= 50,\tobjective= 2.392116\n",
      "iter= 55,\tobjective= 1.991857\n",
      "iter= 60,\tobjective= 1.743466\n",
      "iter= 65,\tobjective= 1.587563\n",
      "iter= 70,\tobjective= 1.488793\n",
      "iter= 75,\tobjective= 1.425573\n",
      "iter= 80,\tobjective= 1.384754\n",
      "iter= 85,\tobjective= 1.358178\n",
      "iter= 90,\tobjective= 1.340550\n",
      "iter= 95,\tobjective= 1.328740\n",
      "Alpha:  0.002154434690031882\n",
      "iter= 5,\tobjective= 91.298357\n",
      "iter= 10,\tobjective= 21.694382\n",
      "iter= 15,\tobjective= 7.487838\n",
      "iter= 20,\tobjective= 3.371670\n",
      "iter= 25,\tobjective= 2.042768\n",
      "iter= 30,\tobjective= 1.582663\n",
      "iter= 35,\tobjective= 1.414491\n",
      "iter= 40,\tobjective= 1.349888\n",
      "iter= 45,\tobjective= 1.323510\n",
      "iter= 50,\tobjective= 1.312262\n",
      "iter= 55,\tobjective= 1.307320\n",
      "iter= 60,\tobjective= 1.305121\n",
      "iter= 65,\tobjective= 1.304191\n",
      "iter= 70,\tobjective= 1.303817\n",
      "iter= 75,\tobjective= 1.303688\n",
      "At iteration76=8.90413687359981e-06 < 1e-05 it reaches the convergence. \n",
      "Alpha:  0.004641588833612777\n",
      "iter= 5,\tobjective= 19.596568\n",
      "iter= 10,\tobjective= 2.727652\n",
      "iter= 15,\tobjective= 1.462041\n",
      "iter= 20,\tobjective= 1.326384\n",
      "iter= 25,\tobjective= 1.307123\n",
      "iter= 30,\tobjective= 1.304030\n",
      "iter= 35,\tobjective= 1.303659\n",
      "At iteration35=8.265631020076825e-06 < 1e-05 it reaches the convergence. \n",
      "Alpha:  0.01\n",
      "iter= 5,\tobjective= 365.576988\n",
      "iter= 10,\tobjective= 716.678065\n",
      "iter= 15,\tobjective= 2403.801694\n",
      "iter= 20,\tobjective= 10008.264219\n",
      "iter= 25,\tobjective= 44188.020904\n",
      "iter= 30,\tobjective= 197909.516693\n",
      "iter= 35,\tobjective= 889514.838539\n",
      "iter= 40,\tobjective= 4001826.509782\n",
      "iter= 45,\tobjective= 18009149.237488\n",
      "iter= 50,\tobjective= 81054159.729745\n",
      "iter= 55,\tobjective= 364818210.886396\n",
      "iter= 60,\tobjective= 1642048788.903776\n",
      "iter= 65,\tobjective= 7390935148.748185\n",
      "iter= 70,\tobjective= 33267064579.293526\n",
      "iter= 75,\tobjective= 149737435639.993439\n",
      "iter= 80,\tobjective= 673979499114.639282\n",
      "iter= 85,\tobjective= 3033633859776.828613\n",
      "iter= 90,\tobjective= 13654623347638.750000\n",
      "iter= 95,\tobjective= 61460533688317.984375\n"
     ]
    }
   ],
   "source": [
    "## Proximal Gadient \n",
    "\n",
    "obj_pg = {} #stores obj function value as a function of iteration for each alpha\n",
    "w_pg = {} #stores the final weight vector learned for each alpha\n",
    "tol=1e-5\n",
    "\n",
    "for alpha in alpha_array:\n",
    "    print('Alpha: ', alpha)\n",
    "\n",
    "    w_pg[alpha] = np.matrix([0.0]*dim).T\n",
    "    obj_pg[alpha] = []\n",
    "    \n",
    "    \n",
    "    for t in range(1, max_iter):\n",
    "        obj_val = obj(w_pg[alpha])\n",
    "        obj_pg[alpha].append(obj_val.item())\n",
    "        \n",
    "        w_pg[alpha] = w_pg[alpha]-alpha*X.T@(X*w_pg[alpha]-y)\n",
    "        w_pg[alpha] = np.multiply(np.sign(w_pg[alpha]),np.maximum(np.abs(w_pg[alpha])-lamda*alpha,0))\n",
    "       \n",
    "        \n",
    "        new_val=obj(w_pg[alpha])\n",
    "\n",
    "        if (t%5==0):\n",
    "            print('iter= {},\\tobjective= {:3f}'.format(t, obj_val.item()))\n",
    "            \n",
    "        subgradient_norm=np.abs(new_val-obj_val)\n",
    "        \n",
    "        if subgradient_norm < tol:\n",
    "            print(\"At iteration\"+str(t)+\"=\"+str(subgradient_norm)+\" < \"+ str(epsilon)+\" it reaches the convergence. \")\n",
    "            \n",
    "            break"
   ]
  },
  {
   "cell_type": "code",
   "execution_count": 36,
   "metadata": {},
   "outputs": [
    {
     "data": {
      "text/plain": [
       "Text(0, 0.5, 'Objective error')"
      ]
     },
     "execution_count": 36,
     "metadata": {},
     "output_type": "execute_result"
    },
    {
     "data": {
      "image/png": "[encoded data removed]",
      "text/plain": [
       "<Figure size 720x360 with 1 Axes>"
      ]
     },
     "metadata": {
      "needs_background": "light"
     },
     "output_type": "display_data"
    }
   ],
   "source": [
    "## Plot objective error vs. iteration (log scale)\n",
    "\n",
    "fig, ax = plt.subplots(figsize = (10, 5))\n",
    "\n",
    "for alpha in alpha_array:\n",
    "    plt.semilogy(np.array(obj_pg[alpha])-opt,  linewidth = 2, label = 'alpha: '+'{:.2e}'.format(alpha) )\n",
    "plt.legend(prop={'size':12})\n",
    "bottom, top = plt.ylim()  # return the current ylim\n",
    "plt.ylim(top=1e+15)\n",
    "plt.ylim(bottom=1e-5)\n",
    "plt.xlabel('Iteration')\n",
    "plt.ylabel('Objective error')"
   ]
  },
  {
   "cell_type": "markdown",
   "metadata": {},
   "source": [
    "## Visualize Coefficients"
   ]
  },
  {
   "cell_type": "markdown",
   "metadata": {},
   "source": [
    "pick the coefficient corresponding to alpha value with the minimum objective function value"
   ]
  },
  {
   "cell_type": "code",
   "execution_count": 37,
   "metadata": {},
   "outputs": [],
   "source": [
    "min_obj= np.inf\n",
    "min_alpha = None"
   ]
  },
  {
   "cell_type": "code",
   "execution_count": 38,
   "metadata": {},
   "outputs": [],
   "source": [
    "for alpha in alpha_array:\n",
    "    if obj_pg[alpha][-1] < min_obj:\n",
    "        min_alpha = alpha\n",
    "        min_obj = obj_pg[alpha][-1]"
   ]
  },
  {
   "cell_type": "code",
   "execution_count": 39,
   "metadata": {},
   "outputs": [
    {
     "data": {
      "image/png": "[encoded data removed]",
      "text/plain": [
       "<Figure size 720x360 with 1 Axes>"
      ]
     },
     "metadata": {
      "needs_background": "light"
     },
     "output_type": "display_data"
    }
   ],
   "source": [
    "plt.figure(figsize = (10, 5))\n",
    "\n",
    "ax = plt.subplot(111)\n",
    "\n",
    "x = np.arange(1, dim+1)\n",
    "\n",
    "ax.bar(x-0.3, clf.coef_, width=0.2, color='r', align='center', label = 'sklearn')\n",
    "ax.bar(x, np.ravel(np.array(w_pg[min_alpha])), width=0.2, color='g', align='center', label = 'Proximal Descent')\n",
    "ax.bar(x+0.3, np.ravel(np.array(w)), width=0.2, color='b', align='center', label = 'Ground Truth')\n",
    "\n",
    "plt.legend()\n",
    "\n",
    "plt.show()"
   ]
  },
  {
   "cell_type": "code",
   "execution_count": null,
   "metadata": {},
   "outputs": [],
   "source": []
  }
 ],
 "metadata": {
  "kernelspec": {
   "display_name": "Python 3",
   "language": "python",
   "name": "python3"
  },
  "language_info": {
   "codemirror_mode": {
    "name": "ipython",
    "version": 3
   },
   "file_extension": ".py",
   "mimetype": "text/x-python",
   "name": "python",
   "nbconvert_exporter": "python",
   "pygments_lexer": "ipython3",
   "version": "3.7.4"
  }
 },
 "nbformat": 4,
 "nbformat_minor": 2
}
