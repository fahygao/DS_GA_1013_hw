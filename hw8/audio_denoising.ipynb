{
 "cells": [
  {
   "cell_type": "code",
   "execution_count": null,
   "metadata": {},
   "outputs": [],
   "source": [
    "import os\n",
    "import glob\n",
    "\n",
    "import numpy as np\n",
    "\n",
    "import matplotlib.pyplot as plt\n",
    "import IPython.display as ipd\n",
    "import IPython\n",
    "import matplotlib.colors as colors\n",
    "\n",
    "from scipy import signal\n",
    "from copy import deepcopy\n",
    "\n",
    "import utils"
   ]
  },
  {
   "cell_type": "code",
   "execution_count": null,
   "metadata": {},
   "outputs": [],
   "source": [
    "dataurl = 'http://www.openslr.org/resources/1/waves_yesno.tar.gz'"
   ]
  },
  {
   "cell_type": "code",
   "execution_count": null,
   "metadata": {},
   "outputs": [],
   "source": [
    "utils.download_and_extract_data(dataurl)"
   ]
  },
  {
   "cell_type": "code",
   "execution_count": null,
   "metadata": {},
   "outputs": [],
   "source": [
    "path_to_sound_data = './waves_yesno/'"
   ]
  },
  {
   "cell_type": "code",
   "execution_count": null,
   "metadata": {},
   "outputs": [],
   "source": [
    "### STFT hyperparameters\n",
    "\n",
    "nperseg = 512\n",
    "window_size = 5"
   ]
  },
  {
   "cell_type": "code",
   "execution_count": null,
   "metadata": {},
   "outputs": [],
   "source": [
    "noise_std_array = [1e-1];  ## all noise levels to consider. feel free to play around"
   ]
  },
  {
   "cell_type": "code",
   "execution_count": null,
   "metadata": {},
   "outputs": [],
   "source": [
    "### for plotting\n",
    "\n",
    "ini = 34500-1\n",
    "end = 37500+1\n",
    "\n",
    "ini2 = 34875\n",
    "end2 = 35025"
   ]
  },
  {
   "cell_type": "markdown",
   "metadata": {},
   "source": [
    "### Creating Dataset"
   ]
  },
  {
   "cell_type": "code",
   "execution_count": null,
   "metadata": {},
   "outputs": [],
   "source": [
    "train_dataset, train_fs_array, train_max_array, val_dataset, val_fs_array, val_max_array = utils.get_data(path_to_sound_data)"
   ]
  },
  {
   "cell_type": "markdown",
   "metadata": {},
   "source": [
    "train_dataset and val_dataset contains time domain signals normalized so that maximum amplitude is 1"
   ]
  },
  {
   "cell_type": "code",
   "execution_count": null,
   "metadata": {},
   "outputs": [],
   "source": [
    "max( x.max() for x in train_dataset )"
   ]
  },
  {
   "cell_type": "markdown",
   "metadata": {},
   "source": [
    "The actual maximum amplitude of signal is saved in train_max_array and val_max_array. We will use this maximum value to un-normalize the signals before plotting or listening to it.\n",
    "\n",
    "actual_signal[k] = train_dataset[k] * train_max_array[k]"
   ]
  },
  {
   "cell_type": "markdown",
   "metadata": {},
   "source": [
    "The sampling rate of each sigal is given in train_fs_array and val_fs_array. In our case, all of them have same sampling rate. We will use sampling rate for stft function"
   ]
  },
  {
   "cell_type": "markdown",
   "metadata": {},
   "source": [
    "### Get Noise Function "
   ]
  },
  {
   "cell_type": "code",
   "execution_count": null,
   "metadata": {},
   "outputs": [],
   "source": [
    "def get_noise(data, noise_std = 0.1):\n",
    "    noise = np.random.randn(*data.shape);\n",
    "    noise = noise * noise_std;\n",
    "    return noise"
   ]
  },
  {
   "cell_type": "markdown",
   "metadata": {},
   "source": [
    "# STFT Hard and Block Thresholding"
   ]
  },
  {
   "cell_type": "code",
   "execution_count": null,
   "metadata": {},
   "outputs": [],
   "source": [
    "def plot_stft(stft_array, save_str=''):\n",
    "    \n",
    "    \"\"\" utility function to plot stft \"\"\"\n",
    "    f, t, Zxx = stft_array;\n",
    "    Zxx_abs = np.abs(Zxx)\n",
    "    Zxx_abs[Zxx_abs<1e-5] = 1e-5\n",
    "    plt.figure()\n",
    "    plt.pcolormesh(t, f,Zxx_abs, norm=colors.LogNorm(vmin=Zxx_abs.min(), vmax=Zxx_abs.max()),cmap='jet' )\n",
    "    tick_size = 18\n",
    "    label_size = 18\n",
    "    cb = plt.colorbar()\n",
    "    plt.tick_params(labelsize=tick_size)\n",
    "    cb.ax.tick_params(labelsize=tick_size)\n",
    "    plt.ylabel('Frequency (Hz)',fontsize=label_size)\n",
    "    plt.xlabel('Time (s)',fontsize=label_size)\n",
    "    plt.savefig('plots/stft_denoising_'+save_str+'_stft.pdf',bbox_inches=\"tight\")\n",
    "    plt.show()"
   ]
  },
  {
   "cell_type": "code",
   "execution_count": null,
   "metadata": {},
   "outputs": [],
   "source": [
    "def get_block_L2_norm(mat, window_size):\n",
    "    \n",
    "    \"\"\" mat: an nxn matrix\n",
    "        window_size: postivie integer (assume odd)\n",
    "        return: nxn matrix where the (i,j)th entry is the L2 norm of a window_size x window_size\n",
    "                neighbourhood centered at (i, j)\n",
    "                \n",
    "        to obtain an nxn output, assume that edges are zero padded. \n",
    "        \n",
    "        hint: implement using a convolution\n",
    "        \n",
    "        sample output for get_block_L2_norm(np.ones([5, 5]), 3): \n",
    "        \n",
    "      [[2.        , 2.44948974, 2.44948974, 2.44948974, 2.        ],\n",
    "       [2.44948974, 3.        , 3.        , 3.        , 2.44948974],\n",
    "       [2.44948974, 3.        , 3.        , 3.        , 2.44948974],\n",
    "       [2.44948974, 3.        , 3.        , 3.        , 2.44948974],\n",
    "       [2.        , 2.44948974, 2.44948974, 2.44948974, 2.        ]]\n",
    "    \"\"\"\n",
    "    pad = (window_size-1)//2\n",
    "    mat = np.sqrt(signal.convolve2d(mat*mat,np.ones((window_size,window_size)),))[pad:-pad,pad:-pad]\n",
    "   \n",
    "    \n",
    "    return mat"
   ]
  },
  {
   "cell_type": "markdown",
   "metadata": {},
   "source": [
    "### Implement Hard and Block Thresholding"
   ]
  },
  {
   "cell_type": "code",
   "execution_count": null,
   "metadata": {},
   "outputs": [],
   "source": [
    "def stft_denoising(source, noise_std, fs, nperseg, thresh, \n",
    "                   window_size, block_thresh = None, plot_res = True, ind=0):\n",
    "    \n",
    "    \"\"\"\n",
    "    implements hard and block thresholding. \n",
    "    \n",
    "    thresh - threshold for hard thresholding. Thresholding is implemented per coefficient\n",
    "    block_thresh - threshold for block thresholding. Thresholding is implemented based on L2 norm of coeff.\n",
    "\n",
    "    \"\"\"\n",
    "\n",
    "    noisy = source + get_noise(source, noise_std);\n",
    "        \n",
    "    if block_thresh is None:\n",
    "        block_thresh = thresh;\n",
    "        \n",
    "    source_stft = signal.stft(source, fs = fs, nperseg=nperseg);\n",
    "    noisy_stft = signal.stft(noisy, fs = fs, nperseg=nperseg);\n",
    "    \n",
    "    ## FILL YOUR CODE\n",
    "    coeffs = noisy_stft[2]\n",
    "    hardmask = np.greater(np.abs(coeffs),thresh)\n",
    "    block12s= get_block_L2_norm(coeffs, window_size)\n",
    "    blockmask= np.greater(block12s,block_thresh)\n",
    "    \n",
    "    denoised_stft = ( noisy_stft[0], noisy_stft[1], hardmask*coeffs)#HARD THRESHOLDED NOISY STFT COEFFICIENTS\n",
    "    block_denoised_stft =  ( noisy_stft[0], noisy_stft[1], blockmask*coeffs)#BLOCK THRESHOLDED NOISY STFT COEFFICIENTS\n",
    "    \n",
    "    if plot_res:\n",
    "        plot_stft(source_stft,save_str='_clean_'+str(ind));\n",
    "        plot_stft(noisy_stft,save_str='_noisy_'+str(ind));\n",
    "        plot_stft(denoised_stft,save_str='_denoised_'+str(ind));\n",
    "        plot_stft(block_denoised_stft,save_str='_block_denoised_'+str(ind));\n",
    "    \n",
    "    _, source_istft =  signal.istft(source_stft[2], fs=fs, nperseg=nperseg);\n",
    "    _, noisy_istft =   signal.istft(noisy_stft[2], fs=fs, nperseg=nperseg);\n",
    "    _, denoised_istft =   signal.istft(denoised_stft[2], fs=fs, nperseg=nperseg);\n",
    "    _, block_denoised_istft =   signal.istft(block_denoised_stft[2], fs=fs, nperseg=nperseg);\n",
    "    \n",
    "    \n",
    "    return np.real(source_istft), np.real(noisy_istft), np.real(denoised_istft), np.real(block_denoised_istft)\n",
    "    \n",
    "    "
   ]
  },
  {
   "cell_type": "markdown",
   "metadata": {},
   "source": [
    "### Choosing Threshold Based on Train Error"
   ]
  },
  {
   "cell_type": "markdown",
   "metadata": {},
   "source": [
    "We will compute the error for different values of threshold and pick the threshold based on the lowest error on the training set. \n",
    "\n",
    "We don't really do any training here. The denoising method only has one hyperparameter - the threshold. We're picking it based on the training set. \n",
    "\n",
    "The next cells should run off hand if you have filled get_block_L2_norm() and stft_denoising()"
   ]
  },
  {
   "cell_type": "code",
   "execution_count": null,
   "metadata": {},
   "outputs": [],
   "source": [
    "np.sqrt(1e-2)"
   ]
  },
  {
   "cell_type": "code",
   "execution_count": null,
   "metadata": {},
   "outputs": [],
   "source": [
    "# threshold_array = [1e-10, 1e-8, 1e-6, 1e-4, 1e-2, 1e0, 1e2]\n",
    "\n",
    "threshold_array = np.logspace(-10, 1, num = 10)"
   ]
  },
  {
   "cell_type": "code",
   "execution_count": null,
   "metadata": {},
   "outputs": [],
   "source": [
    "error_dict = {}\n",
    "block_error_dict = {}\n",
    "best_threshold_dict = {}\n",
    "block_best_threshold_dict = {}\n",
    "for noise_std in noise_std_array:\n",
    "    \n",
    "    error_dict[noise_std] = np.zeros_like(threshold_array);\n",
    "    block_error_dict[noise_std] = np.zeros_like(threshold_array);\n",
    "    \n",
    "    for thresh_i, thresh in enumerate(threshold_array):\n",
    "        total_error = 0.0;\n",
    "        block_total_error = 0.0;\n",
    "        total_length = 0.0;\n",
    "        for i, x in enumerate(train_dataset):\n",
    "            rec_source, rec_noisy, rec_denoised, rec_denoised_block = stft_denoising(x, noise_std, train_fs_array[i], nperseg, thresh, window_size,plot_res=False);\n",
    "            total_error += np.linalg.norm( rec_denoised - rec_source)**2;\n",
    "            block_total_error += np.linalg.norm( rec_denoised_block - rec_source)**2;\n",
    "            total_length += len(rec_source);\n",
    "            \n",
    "        error_dict[noise_std][thresh_i] = (total_error/total_length);\n",
    "        block_error_dict[noise_std][thresh_i] = (block_total_error/total_length);\n",
    "        \n",
    "    print('noise std: ', noise_std);\n",
    "    fig, axes = plt.subplots(1, 2, sharex=True, sharey=True, figsize = (8, 4));\n",
    "    \n",
    "    axes[0].loglog(threshold_array, error_dict[noise_std])\n",
    "    axes[0].set_xlabel('threshold')\n",
    "    axes[0].set_ylabel('error')\n",
    "        \n",
    "    best_threshold_dict[noise_std] = threshold_array[np.argmin(error_dict[noise_std])]\n",
    "    \n",
    "    axes[0].set_title('single coeff best thresh: '+str( round(best_threshold_dict[noise_std], 2)) )\n",
    "    \n",
    "    axes[1].loglog(threshold_array, block_error_dict[noise_std])\n",
    "    axes[1].set_xlabel('threshold')\n",
    "#     axes[1].set_ylabel('error')\n",
    "        \n",
    "    block_best_threshold_dict[noise_std] = threshold_array[np.argmin(block_error_dict[noise_std])]\n",
    "    \n",
    "    axes[1].set_title('block best thresh: '+str( round(block_best_threshold_dict[noise_std], 2)) )\n",
    "    \n",
    "    plt.show()\n",
    "    \n",
    "    print('='*50+'\\n')\n",
    "        "
   ]
  },
  {
   "cell_type": "markdown",
   "metadata": {},
   "source": [
    "### Comparison Between STFT Hard and Block Threshold"
   ]
  },
  {
   "cell_type": "code",
   "execution_count": null,
   "metadata": {},
   "outputs": [],
   "source": [
    "val_idx = 2\n",
    "\n",
    "source = val_dataset[val_idx]\n",
    "fs = val_fs_array[val_idx]\n",
    "max_val = val_max_array[val_idx]\n"
   ]
  },
  {
   "cell_type": "code",
   "execution_count": null,
   "metadata": {},
   "outputs": [],
   "source": [
    "fig_size=(20,6)"
   ]
  },
  {
   "cell_type": "code",
   "execution_count": null,
   "metadata": {
    "scrolled": false
   },
   "outputs": [],
   "source": [
    "for ind_fig, noise_std in enumerate(noise_std_array):\n",
    "    \n",
    "    print('Noise Std: ', noise_std)\n",
    "    \n",
    "    noise_sample = get_noise(source, noise_std = noise_std);\n",
    "    \n",
    "\n",
    "    istft_source, istft_noisy, istft_denoised, istft_denoised_block = stft_denoising(source, noise_std, fs, nperseg,\n",
    "                                                               thresh = best_threshold_dict[noise_std], \n",
    "                                                               window_size = window_size,\n",
    "                                                               block_thresh = block_best_threshold_dict[noise_std])\n",
    "    istft_denoised_block *= max_val\n",
    "    istft_denoised *= max_val;\n",
    "    istft_noisy *= max_val;\n",
    "    istft_source *= max_val;\n",
    "    \n",
    "    print('STFT Denoised: ')\n",
    "    IPython.display.display(ipd.Audio(istft_denoised, rate=fs))\n",
    "    \n",
    "    print('Block STFT Denoised: ')\n",
    "    IPython.display.display(ipd.Audio(istft_denoised_block, rate=fs))\n",
    "    \n",
    "    label_size = 18\n",
    "    font_size = 18\n",
    "    \n",
    "    t_indices = np.arange(len(istft_source))/fs\n",
    "    \n",
    "    plt.figure(figsize = fig_size)\n",
    "    plt.plot(np.real(istft_source))\n",
    "    plt.xlabel('Time (s)',fontsize=font_size)\n",
    "    plt.tick_params(labelsize=label_size)\n",
    "    \n",
    "    plt.figure(figsize = fig_size)\n",
    "    plt.plot(t_indices[ini:end],np.real(istft_denoised[ini:end]))\n",
    "    plt.xlabel('Time (s)',fontsize=font_size)\n",
    "    plt.tick_params(labelsize=label_size)\n",
    "    plt.savefig('plots/stft_stft_denoised_' + str(ind_fig) + '.pdf',bbox_inches=\"tight\")\n",
    "    \n",
    "    plt.figure(figsize = fig_size)\n",
    "    plt.plot(t_indices[ini:end],np.real(istft_denoised_block[ini:end]))\n",
    "    plt.xlabel('Time (s)',fontsize=font_size)\n",
    "    plt.tick_params(labelsize=label_size)\n",
    "    plt.savefig('plots/stft_block_denoised_' + str(ind_fig) + '.pdf',bbox_inches=\"tight\")\n",
    "\n",
    "\n",
    "   \n",
    "    plt.figure(figsize = fig_size)\n",
    "    plt.plot(t_indices[ini2:end2],np.real(istft_source[ini2:end2]),'--o',markersize=6,lw=1.5,color='deepskyblue', label='Signal')\n",
    "    plt.plot(t_indices[ini2:end2],np.real(istft_denoised[ini2:end2]),'x',color='tomato',markersize=8,mew=3, label='STFT thresholding')\n",
    "    plt.plot(t_indices[ini2:end2],np.real(istft_noisy[ini2:end2]),'.',color='darkgreen',markersize=10,label='Noisy data')\n",
    "    plt.xlabel('Time (s)',fontsize=font_size)\n",
    "    plt.tick_params(labelsize=label_size)\n",
    "    plt.legend(fontsize=font_size)\n",
    "    plt.savefig('plots/stft_stft_denoised_' + str(ind_fig) + '_zoom.pdf',bbox_inches=\"tight\")\n",
    "    \n",
    "    plt.figure(figsize = fig_size)\n",
    "    plt.plot(t_indices[ini2:end2],np.real(istft_source[ini2:end2]),'--o',markersize=6,lw=1.5,color='deepskyblue', label='Signal')\n",
    "    plt.plot(t_indices[ini2:end2],np.real(istft_denoised_block[ini2:end2]),'x',color='tomato',markersize=8,mew=3, label='STFT block thresholding')\n",
    "    plt.plot(t_indices[ini2:end2],np.real(istft_noisy[ini2:end2]),'.',color='darkgreen',markersize=10,label='Noisy data')\n",
    "    plt.xlabel('Time (s)',fontsize=font_size)\n",
    "    plt.tick_params(labelsize=label_size)\n",
    "    plt.legend(fontsize=font_size)\n",
    "    plt.savefig('plots/stft_block_denoised_' + str(ind_fig) + '_zoom.pdf',bbox_inches=\"tight\")\n",
    "    \n",
    "    plt.show()\n",
    " \n",
    "    \n",
    "    print('='*50 + '\\n')"
   ]
  }
 ],
 "metadata": {
  "kernelspec": {
   "display_name": "Python 3",
   "language": "python",
   "name": "python3"
  },
  "language_info": {
   "codemirror_mode": {
    "name": "ipython",
    "version": 3
   },
   "file_extension": ".py",
   "mimetype": "text/x-python",
   "name": "python",
   "nbconvert_exporter": "python",
   "pygments_lexer": "ipython3",
   "version": "3.7.4"
  }
 },
 "nbformat": 4,
 "nbformat_minor": 2
}
