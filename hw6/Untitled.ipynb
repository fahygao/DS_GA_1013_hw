{
 "cells": [
  {
   "cell_type": "markdown",
   "metadata": {},
   "source": [
    "<h1><center> MATH-GA 2840 HW#6</center></h1>\n",
    "<h3 align=\"right\">Yifei(Fahy) Gao yg1753</h3>"
   ]
  },
  {
   "cell_type": "markdown",
   "metadata": {},
   "source": [
    "1. (Aliasing) Suppose $x: \\mathbb{R} \\rightarrow \\mathbb{C}$ takes the form\n",
    "$$\n",
    "x(t)=\\sum_{k=-k_{c}}^{k_{c}} a_{k} e^{2 \\pi i k t}\n",
    "$$\n",
    "for some finite $k_{c}>0$ with $a_{k} \\in \\mathbb{C}$.\n",
    "In the timedata folder you will find data.py. The load_data function will give you 3 complex numpy arrays. Each has the form\n",
    "$$\n",
    "x_{[N]}=[x(0 / N), x(1 / N), \\ldots, x((N-1) / N)]\n",
    "$$\n",
    "where $N=2049,4097,8193$ for the three arrays, respectively. Each of the arrays are sampled from the same signal $x$.\n",
    "\n",
    "(a) Give plots of the magnitudes of the DFT coefficients computed from each of the arrays ( 3 plots in total). Make sure to order your plot so that frequency 0 is in the center, with negatives to the left and positives to the right. What do you notice about the magnitudes of the plots? [Hint: Use fftfreq in numpy with sample spacing $d=1.0 / N .]$\n"
   ]
  },
  {
   "cell_type": "code",
   "execution_count": 2,
   "metadata": {},
   "outputs": [],
   "source": [
    "import numpy as np\n",
    "from data import *"
   ]
  },
  {
   "cell_type": "code",
   "execution_count": null,
   "metadata": {},
   "outputs": [],
   "source": [
    "small, med, large = load_data()\n",
    "sizes ={'small':small, \n",
    "        'medium':med,\n",
    "        'large':large}\n",
    "N={}\n",
    "fft_freqs ={}\n",
    "fft_abs={}\n",
    "for s in sizes.keys():\n",
    "    N[s]=len(sizes[s])\n",
    "    fft[s]="
   ]
  },
  {
   "cell_type": "markdown",
   "metadata": {},
   "source": [
    "\n",
    "(b) Assuming $k_{c} \\leq 4096$ give the three largest $\\left|a_{k}\\right|$ -values, along with their corresponding frequencies (i.e., the $k$ -values).\n",
    "\n",
    "(c) Let $\\hat{x}_{[2049]}$ and $\\hat{x}_{[8193]}$ denote the DFT coefficients computed from the small and large arrays, respectively. Suppose you have only computed $\\hat{x}_{[8193]}$ and assume $k_{c} \\leq 4096$. Give a formula for $\\hat{x}_{[2049]}[3]$ in terms of the entries of $\\hat{x}_{[8193]}$ and test your formula on the given data. Your formula should only require simple algebra.\n",
    "\n",
    "(d) True or False: Since none of the plots computed above are non-zero for any frequency $k$ with $|k|>2048$ it follows that $k_{c} \\leq 2048$."
   ]
  },
  {
   "cell_type": "markdown",
   "metadata": {},
   "source": [
    "2. (Justification of the FFT) Define the matrix $F_{[N]} \\in \\mathbb{C}^{N \\times N}$ by $\\left(F_{[N]}\\right)_{j, k}=e^{-2 \\pi i j k / N}$ where $0 \\leq j, k<N$ and $N$ is even. The indexing $a: b$ denotes the inclusive range $a, a+1, \\ldots, b$\n",
    ": alone denotes the full set of indices, and $a:$ denotes all indices starting from $a$. Answer these questions to complete the proof of Lemma 4.3 .\n",
    "\n",
    "(a) For any $k \\geq 0$ with $2 k<N$ prove a formula showing how to compute the columns corresponding to odd indices $\\left(F_{[N]}\\right)_{:, 2 k+1}$ assuming you are given the columns for even indices $\\left(F_{[N]}\\right)_{:, 2 k}$\n",
    "\n",
    "(b) For any $k \\geq 0$ with $2 k<N$ prove that the first half of the even columns equals the second half $\\left(F_{[N]}\\right)_{0: N / 2-1,2 k}=\\left(F_{[N]}\\right)_{N / 2: 2 k}$.\n",
    "\n",
    "(c) Prove that the first half of the even columns are equal to the $N / 2$ DFT matrix $\\left(F_{[N]}\\right)_{0: N / 2-1,2 k}=\\left(F_{[N / 2]}\\right)_{:, k}$"
   ]
  },
  {
   "cell_type": "markdown",
   "metadata": {},
   "source": [
    "3. (Properties of the DFT) Let $F_{[N]} \\in \\mathbb{C}^{N \\times N}$ denote the DFT matrix.\n",
    "\n",
    "(a) Prove that $\\frac{1}{N} F_{[N]}^{*},$ the inverse DFT, can be written as $\\frac{1}{N} P F_{[N]}$ for some permutation matrix $P$ with $P^{-1}=P$. This shows that the DFT and the inverse DFT can be calculated in a very similar way.\n",
    "\n",
    "(b) Using the fact that\n",
    "$$\n",
    "(A B C)[j, k]=A[j,:](B) C[:, k]\n",
    "$$\n",
    "for any $A, B, C \\in \\mathbb{C}^{N \\times N}$ and $0 \\leq j, k<N$ prove that the $2 \\mathrm{D}$ DFT coefficients are given by\n",
    "$$\n",
    "\\left(F_{[N]} X F_{[N]}\\right)[j, k]=\\hat{X}[j, k]\n",
    "$$\n",
    "for $X \\in \\mathbb{C}^{N \\times N}$. Here we take\n",
    "$$\n",
    "\\hat{X}[j, k]:=\\left\\langle X, \\psi_{j} \\psi_{k}^{T}\\right\\rangle\n",
    "$$\n",
    "as the definition of $\\hat{X}[j, k]$ where $\\psi_{j}, \\psi_{k} \\in \\mathbb{C}^{N}$ are discrete sinusoidal basis vectors. [Hint: Use the trace operator.]\n",
    "\n",
    "(c) If $x: L_{2}[0,1)^{2} \\rightarrow \\mathbb{C}$ is real-valued, prove that the Fourier coefficients satisfy $\\hat{x}[j, k]=$\n"
   ]
  },
  {
   "cell_type": "markdown",
   "metadata": {},
   "source": [
    "4. (Undersampling in MRI) MRI measurements can be modeled as the Fourier coefficients of tissue density (being very simplistic). An important goal is to reduce the number of Fourier coefficients, because this accelerates data acquisition, decreasing costs and improving the experience for the patient. Here we will see one of the possible pitfalls of undersampling in the Fourier domain, which is equivalent to aliasing.\n",
    "\n",
    "(a) Imagine that you only measure half of the DFT coefficients of an $N$ -dimensional vector $x$. Specifically you measure a vector $y \\in \\mathbb{C}^{N / 2}$ (assume $N$ is even) that contains the Fourier coefficients corresponding to even indices. Explain how to reconstruct the vector $x_{\\text {est }}$ with the smallest $\\ell_{2}$ norm that is consistent with these measurements. Use a single multiplication with the inverse DFT matrix $\\frac{1}{N} F_{[N]}^{*}$.\n",
    "\n",
    "(b) The script mr_undersampling.py loads the data and plots the MR image and it's Fourier coefficients. Apply your proposed reconstruction method to $2 \\mathrm{D}$ data by completing the script mr_undersampling.py. Reconstruct the image using (1) only the even-indexed rows, (2) only the even-indexed columns, (3) only indices in even rows and columns. Report images generated using the plotting script for your under sampled Fourier coefficients and reconstructed image.\n",
    "\n",
    "(c) To explain what you are seeing, express $x_{\\text {est }}$ in terms of the entries of $x$ in the $1 \\mathrm{D}$ case. (Hint: You might want to use some results from Problem $2(\\mathrm{~b})$ and $2(\\mathrm{c}) .)$"
   ]
  },
  {
   "cell_type": "code",
   "execution_count": null,
   "metadata": {},
   "outputs": [],
   "source": []
  }
 ],
 "metadata": {
  "kernelspec": {
   "display_name": "Python 3",
   "language": "python",
   "name": "python3"
  },
  "language_info": {
   "codemirror_mode": {
    "name": "ipython",
    "version": 3
   },
   "file_extension": ".py",
   "mimetype": "text/x-python",
   "name": "python",
   "nbconvert_exporter": "python",
   "pygments_lexer": "ipython3",
   "version": "3.7.4"
  }
 },
 "nbformat": 4,
 "nbformat_minor": 2
}
